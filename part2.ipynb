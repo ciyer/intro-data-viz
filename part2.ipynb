{
 "cells": [
  {
   "cell_type": "markdown",
   "metadata": {
    "slideshow": {
     "slide_type": "slide"
    }
   },
   "source": [
    "# A Very, Very Brief Introduction to Data Visualization (Part II)\n",
    "\n",
    "This document, together with [part1](part1.ipynb) constitute a short two-part course covering the basics of data visualization."
   ]
  },
  {
   "cell_type": "markdown",
   "metadata": {
    "slideshow": {
     "slide_type": "slide"
    }
   },
   "source": [
    "# About Me\n",
    "<br>\n",
    "<div style=\"font-size: larger;\">\n",
    "Chandrasekhar (Sekhar) Ramakrishnan<br>\n",
    "<a href=\"https://twitter.com/ciyer\">@ciyer</a><br>\n",
    "<br>\n",
    "<a href=\"https://datascience.ch\">Swiss Data Science Center</a> and freelance data scientist; teach data viz at <a href=\"https://propulsion.academy\">Propulsion Academy</a>\n",
    "\n",
    "<a href=\"https://illposed.com\"><img alt=\"illposed logo\" src=\"images/illposed-logo.svg\" width=\"300px\"/></a>\n",
    "</div>"
   ]
  },
  {
   "cell_type": "markdown",
   "metadata": {
    "slideshow": {
     "slide_type": "slide"
    }
   },
   "source": [
    "# Part 1: Thinking about visualizations\n",
    "\n",
    "See [part1](part1.ipynb)\n",
    "\n",
    "In the first part, we developed a framework for thinking about visualizations and looked at some ideas and tools that can help us build on a solid foundation.\n",
    "\n",
    "# Part 2: Visualizations for reasoning about data\n",
    "\n",
    "* The importance of **context**\n",
    "* Show multiple variables using **layering**\n",
    "* Use **highlighting** to draw attention to particular items\n",
    "* **Faceting** lets you show more data\n",
    "\n",
    "Part 2 continues on this foundation to look at how to make visualizations for reasoning about data."
   ]
  },
  {
   "cell_type": "markdown",
   "metadata": {},
   "source": [
    "# The Importance of **Context**\n",
    "\n",
    "## Edward Tufte *Envisioning Information* (1990)\n",
    "\n",
    "At the heart of quantitative reasoning is a single question:\n",
    "\n",
    "**Compared to what?**"
   ]
  },
  {
   "cell_type": "markdown",
   "metadata": {},
   "source": [
    "## Enabling Comparison\n",
    "\n",
    "How can we support making comparisons?\n",
    "\n",
    "<div style=\"font-size: larger; margin: 20px;\">\n",
    "    To make comparisons possible, give <b>context</b> by <b>layering information</b> and increasing <b>data density</b>. Highlight to <b>draw attention</b> to important features.\n",
    "</div>\n",
    "\n",
    "Quantitative reasoning is about *comparison*, and to make comparisons, you need to see *data in context*. This is done through layering of information, and increasing the density of data. There is some tension between density and clarity, though. As we have more data, it is easier to lose the forest for the trees. Highlighting is a way to present high density data and still give signposts to guide the viewer to relevant information. We will look at how to use color, transparency, and text to achieve this."
   ]
  },
  {
   "cell_type": "markdown",
   "metadata": {
    "slideshow": {
     "slide_type": "slide"
    }
   },
   "source": [
    "# **Providing Context** using color and text"
   ]
  },
  {
   "cell_type": "markdown",
   "metadata": {},
   "source": [
    "## **Color** to layer information\n",
    "\n",
    "![FRED](https://fred.stlouisfed.org/graph/fredgraph.png?g=EaVv) https://fred.stlouisfed.org/series/PCE#0\n",
    "\n",
    "Plots of economic data from FRED always shade in periods of recession since many economic variables behave differently when economy is contracting. This is a plot of *personal consumption expenditures*, and an economy in recession is one obvious reason why people may be spending less (in aggregate).\n",
    "\n",
    "On the face of it, this looks like a plot of two variables, YoY change in PCE (y-axis) and time (x-axis). But there is in fact another variable of data necessary to make this chart —  YoY change in (nominal) GDP — we just do not see it in full fidelity, and it is not necessary. We only care if this variable is below zero or not, in which case, we mark the region in gray (a recession that has finished) or yellow (a recession that is ongoing)."
   ]
  },
  {
   "cell_type": "markdown",
   "metadata": {},
   "source": [
    "## **Text** to layer information\n",
    "\n",
    "![Three-point Scatter](https://fivethirtyeight.com/wp-content/uploads/2015/12/morris-stephcurry-1.png?w=600)\n",
    "http://fivethirtyeight.com/features/stephen-curry-is-the-revolution/\n",
    "\n",
    "Using text is another way of layering information. This plot is taken from an article about basketball and illustrates how the teams in the semifinals of the 2014 – 2015 season playoffs all took advantage of the 3-point shot. This is a plot of three variables: two quantitative ones and a nominal variable – team name, but the nominal variable is not shown for all the teams, just a selection of them necessary for contextualizing the information."
   ]
  },
  {
   "cell_type": "markdown",
   "metadata": {},
   "source": [
    "## **Clarity in density** with color and text\n",
    "\n",
    "![Curry Scatter](https://fivethirtyeight.com/wp-content/uploads/2015/12/morris-stephcurry-21.png?w=600)\n",
    "http://fivethirtyeight.com/features/stephen-curry-is-the-revolution/\n",
    "\n",
    "Here is another plot from the same article about a basketball player named Stephen Curry. To explain Curry’s skill, this plot shows how he compares to 1. the league in general 2. the best players of the league, and it does this by 1. achieving high data density 2. layering multiple variables 3. highlighting and drawing your attention to the relevant data.\n",
    "To achieve the high density, transparency is used to also many dots to overlap, but still be distinct. Text labels and color are used to highlight a small number of players to examine in detail."
   ]
  },
  {
   "cell_type": "markdown",
   "metadata": {},
   "source": [
    "## **Model** to aid interpretation\n",
    "\n",
    "![Messi Scatter](https://fivethirtyeight.com/wp-content/uploads/2014/06/morris-feature-messi-2.png?w=600) https://fivethirtyeight.com/features/lionel-messi-is-impossible/\n",
    "\n",
    "The data that is layered over a basic plot can come from the same data source, a secondary data source, or be synthetic — computed using the data. \n",
    "\n",
    "Here is an example of layering used to show data with a model of it. In this case, we see a regression of shooting efficiency vs. shooting volume of a large number of football players, making it possible to compare two extraordinary players: Messi and Ronaldo. "
   ]
  },
  {
   "cell_type": "markdown",
   "metadata": {},
   "source": [
    "# **Providing Context** Data Density\n",
    "\n",
    "Viewing as much data as possible is key to proper interpretation and robust understanding. Cherry-picking a subset of the data is a recipe for misleading (intentionally or unintentionally)."
   ]
  },
  {
   "cell_type": "markdown",
   "metadata": {
    "slideshow": {
     "slide_type": "subslide"
    }
   },
   "source": [
    "## **Phillips Curve** (after Tufte)\n",
    "\n",
    "Following an example presented by Tufte in *The Visual Display of Quantitative Information* and revisited on his [website](https://www.edwardtufte.com/bboard/q-and-a-fetch-msg?msg_id=00041w), consider the Phillips Curve, a concept from economics which states that there is an inverse relationship between the unemployment rate and the inflation rate: as the unemployment rate declines, the inflation rate should increase.\n",
    "\n",
    "If we look at data from 1961 to 1969, this seems plausible."
   ]
  },
  {
   "cell_type": "code",
   "execution_count": null,
   "metadata": {
    "slideshow": {
     "slide_type": "notes"
    }
   },
   "outputs": [],
   "source": [
    "%matplotlib inline\n",
    "import numpy as np\n",
    "import pandas as pd\n",
    "import matplotlib as mpl\n",
    "import matplotlib.pyplot as plt\n",
    "import seaborn as sns\n",
    "import introviz\n",
    "\n",
    "introviz.set_style()"
   ]
  },
  {
   "cell_type": "code",
   "execution_count": null,
   "metadata": {},
   "outputs": [],
   "source": [
    "phillips_df = introviz.phillips.read_data(\"data/phillips-ue-cpi.csv\")\n",
    "fig, ax = plt.subplots(figsize=(8, 8))\n",
    "introviz.phillips.xy_plot(ax, phillips_df.loc[(slice(None), slice(\"1961\", \"1969\")), :], \"USA\")\n",
    "ax.set_xlabel(\"Annual unemployment rate (%)\")\n",
    "ax.set_ylabel(\"Inflation rate (annual % change in CPI)\")\n",
    "ax.xaxis.set_label_coords(0.3, -0.05)\n",
    "introviz.phillips.cite_source(ax, \"OECD (data.oecd.org)\")\n",
    "fig.tight_layout()"
   ]
  },
  {
   "cell_type": "markdown",
   "metadata": {},
   "source": [
    "As a consumer of visualizations, you should be skeptical when you see small amounts of data displayed: it is easy to cherry-pick data to support an argument, hiding data that does not. As a creator of visualizations, you should aim to show as much data as possible. Not only is it honest, it is also more convincing. If the conclusion holds when looking at much data, it is more robust.\n",
    "\n",
    "If we expand our view to 60 years of data covering the period 1960 to 2020, we see a more complex picture emerge revealing periods in the US high inflation and high unemployment (1970s/early 1980s) and periods of decreasing unemployment and low inflation (2014-2019)."
   ]
  },
  {
   "cell_type": "code",
   "execution_count": null,
   "metadata": {},
   "outputs": [],
   "source": [
    "phillips_df = introviz.phillips.read_data(\"data/phillips-ue-cpi.csv\")\n",
    "fig, ax = plt.subplots(figsize=(8, 8))\n",
    "introviz.phillips.xy_plot(ax, phillips_df, \"USA\")\n",
    "ax.set_xlabel(\"Annual unemployment rate (%)\")\n",
    "ax.set_ylabel(\"Inflation rate (annual % change in CPI)\")\n",
    "ax.xaxis.set_label_coords(0.3, -0.05)\n",
    "introviz.phillips.cite_source(ax, \"OECD (data.oecd.org)\")\n",
    "fig.tight_layout()"
   ]
  },
  {
   "cell_type": "markdown",
   "metadata": {},
   "source": [
    "## **Phillips Curve** multiple countries\n",
    "\n",
    "William Phillips identified the Phillips curve while studying unemployment and inflation in the United Kingdom. Maybe the US and UK behave differently in this regard. How can we look at a larger array of countries?\n",
    "\n",
    "One way would be to overlay multiple plots in one figure. As you can see, that does not work very well when data density becomes high. It is very difficult to distinguish the two series from one another."
   ]
  },
  {
   "cell_type": "code",
   "execution_count": null,
   "metadata": {},
   "outputs": [],
   "source": [
    "palette = sns.color_palette()\n",
    "fig, ax = plt.subplots(figsize=(8, 8))\n",
    "introviz.phillips.xy_plot(ax, phillips_df, \"USA\")\n",
    "introviz.phillips.xy_plot(ax, phillips_df, \"GBR\", s_color=palette[2], r_color=palette[3])\n",
    "ax.set_xlabel(\"Annual unemployment rate (%)\")\n",
    "ax.set_ylabel(\"Inflation rate (annual % change in CPI)\")\n",
    "ax.legend()\n",
    "ax.xaxis.set_label_coords(0.3, -0.05)\n",
    "introviz.phillips.cite_source(ax, \"OECD (data.oecd.org)\")\n",
    "fig.tight_layout()"
   ]
  },
  {
   "cell_type": "markdown",
   "metadata": {},
   "source": [
    "# **Faceting**"
   ]
  },
  {
   "cell_type": "markdown",
   "metadata": {},
   "source": [
    "## **Edward Tufte** *Envisioning Information* (1990)\n",
    "\n",
    "<div style=\"font-size: larger; margin: 20px;\">\n",
    "    At the heart of quantitative reasoning is a single question:\n",
    "    <p>\n",
    "    <b>Compared to what?</b>\n",
    "    </p>\n",
    "    <p>Small multiple designs, multivariate and data bountiful, answer directly by visually enforcing comparisons of changes, of the differences among objects, of the scope of alternatives. For a wide range of problems in data presentation, small multiples are the best design solution.</p>\n",
    "</div>\n",
    "\n",
    "Tufte (Envisioning Information, p. 67)"
   ]
  },
  {
   "cell_type": "markdown",
   "metadata": {},
   "source": [
    "To compare the relationship between unemployment and inflation in the USA and UK, we can do a small-multiples plot. Each plot is a complex scatterplot, showing the movement of the series through time, layering a model and orienting text, yet they remain readable (and could be improved with a little intervention in Illustrator).\n",
    "\n",
    "Notice how the x and y-axes cover the same range. This is important to make the plots comparable and should only be violated with good reason."
   ]
  },
  {
   "cell_type": "code",
   "execution_count": null,
   "metadata": {},
   "outputs": [],
   "source": [
    "palette = sns.color_palette()\n",
    "fig, axs = plt.subplots(1, 2, sharex=True, sharey=True, figsize=(16, 8))\n",
    "introviz.phillips.xy_plot(axs[0], phillips_df, \"USA\")\n",
    "introviz.phillips.xy_plot(axs[1], phillips_df, \"GBR\", text_offset=(0, -0.5))\n",
    "axs[0].set_xlabel(\"Annual unemployment rate (%)\")\n",
    "axs[0].set_ylabel(\"Inflation rate (annual % change in CPI)\")\n",
    "axs[0].xaxis.set_label_coords(0.3, -0.05)\n",
    "axs[0].set_title(\"USA (1960 - 2020)\")\n",
    "axs[1].set_title(\"GBR (1984 - 2020)\")\n",
    "introviz.phillips.cite_source(ax, \"OECD (data.oecd.org)\")\n",
    "fig.tight_layout()"
   ]
  },
  {
   "cell_type": "markdown",
   "metadata": {},
   "source": [
    "## **Phillips Curve** nine countries\n",
    "\n",
    "The faceted plot approach can be extended to a large number multiples as well. Here we see the Phillips Curve plotted for nine countries, giving a richer and more nuanced view of the relationship between unemployment and inflation. The relationship broadly holds for two or three countries (Sweden, Japan, and, if we want to be generous, Italy), but is not a good description of what we see in the other six. And in the UK, the slope is opposite to what is expected."
   ]
  },
  {
   "cell_type": "code",
   "execution_count": null,
   "metadata": {},
   "outputs": [],
   "source": [
    "tdf = phillips_df.loc[([\"CAN\", \"USA\", \"JPN\", \"GBR\", \"FRA\", \"DEU\", \"NLD\", \"SWE\", \"ITA\"]), :]\n",
    "ue_cpi_r2_df = introviz.phillips.r2_df(tdf).sort_values(\"R2\", ascending=False)\n",
    "g = sns.FacetGrid(tdf.reset_index(), col=\"LOCATION\", col_wrap=3, col_order=ue_cpi_r2_df['LOCATION'], height=4, aspect=1.2)\n",
    "g.map_dataframe(introviz.phillips.facet_xy_plot, \"UE\", \"c_cpi\")\n",
    "g.set_xlabels(\"Unemployment rate\")\n",
    "g.set_ylabels(\"Inflation rate\")\n",
    "\n",
    "for l in ue_cpi_r2_df['LOCATION'].values:\n",
    "    ax = g.axes_dict[l]\n",
    "    ax.set_title(introviz.phillips.facet_xy_plot_label(tdf, ue_cpi_r2_df, l))"
   ]
  },
  {
   "cell_type": "markdown",
   "metadata": {},
   "source": [
    "# **Case Study** Mortality in France 2000 — 2021\n",
    "\n",
    "[Baptiste Coulmont](https://coulmont.com), a sociologist in Paris, produced some stunning visualizations of all-cause mortality in France over the period of 2000 — 2021. The first one appeared on his [blog](coulmont.com/blog/2020/04/24/2020-une-mortalite-specifique/), and he posts updated versions on his [twitter feed](https://twitter.com/coulmont/status/1377966826517372928).\n",
    "As a case study for applying these contextualization techniques, we will use the same data and explore the design space."
   ]
  },
  {
   "cell_type": "markdown",
   "metadata": {
    "slideshow": {
     "slide_type": "subslide"
    }
   },
   "source": [
    "# References\n",
    "\n",
    "<div style=\"display: flex; flex-direction: row;  justify-content: space-around\">\n",
    "\n",
    "<div>\n",
    "\n",
    "<h2>Edward Tufte</h2>\n",
    "<ul>\n",
    "<li><a href=\"https://www.amazon.com/Visual-Display-Quantitative-Information/dp/0961392142/\">Visual Display of Quantitative Information</a></li>\n",
    "<li><a href=\"https://www.amazon.com/Envisioning-Information-Edward-R-Tufte/dp/0961392118/\">Envisioning Information</a></li>\n",
    "<li><a href=\"https://www.amazon.com/Visual-Explanations-Quantities-Evidence-Narrative/dp/0961392126/\">Visual Explanations</a></li>\n",
    "</ul>\n",
    "\n",
    "</div>\n",
    "\n",
    "<div>\n",
    "\n",
    "<h2>Online</h2>\n",
    "<ul>\n",
    "<li><a href=\"https://magrawala.github.io/cs448b-fa17/\">Maneesh Agrawala’s Visualization Course</a></li>\n",
    "<li><a href=\"https://courses.cs.washington.edu/courses/cse442/17au/\">Jeffrey Heer’s Visualization Course</a></li>\n",
    "<li><a href=\"https://www.tableau.com/sites/default/files/media/designing-great-visualizations.pdf\">Jock Mackinlay’s Designing Great Visualizations</a></li>\n",
    "</ul>\n",
    "\n",
    "</div>\n",
    "</div>\n",
    "\n",
    "\n",
    "\n",
    "<!-- * Müller-Brockmann -->"
   ]
  }
 ],
 "metadata": {
  "celltoolbar": "Slideshow",
  "kernelspec": {
   "display_name": "Python 3",
   "language": "python",
   "name": "python3"
  },
  "language_info": {
   "codemirror_mode": {
    "name": "ipython",
    "version": 3
   },
   "file_extension": ".py",
   "mimetype": "text/x-python",
   "name": "python",
   "nbconvert_exporter": "python",
   "pygments_lexer": "ipython3",
   "version": "3.7.6"
  },
  "rise": {
   "theme": "simple"
  }
 },
 "nbformat": 4,
 "nbformat_minor": 4
}
