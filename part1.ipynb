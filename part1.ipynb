{
 "cells": [
  {
   "cell_type": "markdown",
   "metadata": {
    "slideshow": {
     "slide_type": "slide"
    }
   },
   "source": [
    "# A Very, Very Brief Introduction to Data Visualization (Part I)"
   ]
  },
  {
   "cell_type": "markdown",
   "metadata": {
    "slideshow": {
     "slide_type": "slide"
    }
   },
   "source": [
    "# About Me\n",
    "<br>\n",
    "<div style=\"font-size: larger;\">\n",
    "Chandrasekhar (Sekhar) Ramakrishnan<br>\n",
    "<a href=\"https://twitter.com/ciyer\">@ciyer</a><br>\n",
    "<br>\n",
    "<a href=\"https://datascience.ch\">Swiss Data Science Center</a> and freelance data scientist; teach data viz at <a href=\"https://propulsion.academy\">Propulsion Academy</a>\n",
    "\n",
    "<a href=\"https://illposed.com\"><img alt=\"illposed logo\" src=\"images/illposed-logo.svg\" height=\"75%\"/></a>\n",
    "</div>"
   ]
  },
  {
   "cell_type": "markdown",
   "metadata": {
    "slideshow": {
     "slide_type": "slide"
    }
   },
   "source": [
    "# The Goal of Data Visualization"
   ]
  },
  {
   "cell_type": "markdown",
   "metadata": {
    "slideshow": {
     "slide_type": "subslide"
    }
   },
   "source": [
    "## The goal of visualizing data is to enable quantitative reasoning with your eyes"
   ]
  },
  {
   "cell_type": "markdown",
   "metadata": {
    "slideshow": {
     "slide_type": "notes"
    }
   },
   "source": [
    "There are many valid answers to this question. One of them is the above. It is not the only answer, but it is the answer we will pursue here."
   ]
  },
  {
   "cell_type": "markdown",
   "metadata": {
    "slideshow": {
     "slide_type": "subslide"
    }
   },
   "source": [
    "## One data set, two goals\n",
    "\n",
    "<table>\n",
    "    <tbody>\n",
    "        <tr>\n",
    "            <td><img width=\"505px\" alt=\"GQ Waistline Viz\" src=\"https://i1.wp.com/flowingdata.com/wp-content/uploads/2010/09/waistline-measurement-chart-for-men.jpg?w=614&ssl=1\"></td>\n",
    "            <td><img width=\"550px\" alt=\"FD Waistline Viz\" src=\"https://i2.wp.com/flowingdata.com/wp-content/uploads/2010/10/Pants-Size-Chart.png?w=550&ssl=1\"></td>\n",
    "        </tr>\n",
    "    </tbody>\n",
    "</table>\n",
    "\n",
    "From FlowingData https://flowingdata.com/2010/09/30/advertised-vs-actual-waistline/"
   ]
  },
  {
   "cell_type": "markdown",
   "metadata": {
    "slideshow": {
     "slide_type": "notes"
    }
   },
   "source": [
    "Consider these two visualizations of the same data set. They are both good, but they look very different because they pursue different goals. \n",
    "\n",
    "The one on the right is a visualization of the kind we will be talking about: one designed to enable quantitative reasoning. The one on the left has a different goal: its goal is to be entertaining. This is of course fine, and this visualization does a good job of realizing this goal, but it is not the kind of visualization we will be talking about."
   ]
  },
  {
   "cell_type": "markdown",
   "metadata": {
    "slideshow": {
     "slide_type": "slide"
    }
   },
   "source": [
    "# TLDR\n",
    "\n",
    "* With the right approach, it is possible to design a visualization that is good for any comparison you want to make\n",
    "* Without support, color is easy to mess up; but with good tools, color is easy to get right\n",
    "* Transforming data can be key in visualizing it effectively"
   ]
  },
  {
   "cell_type": "markdown",
   "metadata": {},
   "source": [
    "We are going to explore how to create visualizations to realize our goal. We will develop a framework for thinking about visualizations that will make it possible to design a visualization that is good for any kind of comparison we want to make. Along the way, we will take a look at two aspects that are important for making readable visualizations: color and data transformation."
   ]
  },
  {
   "cell_type": "markdown",
   "metadata": {
    "slideshow": {
     "slide_type": "slide"
    }
   },
   "source": [
    "# Table of Contents\n",
    "\n",
    "* Tools for making visualizations\n",
    "* Thinking about visualizations\n",
    "* Scales of measurement\n",
    "* Selecting mappings\n",
    "* Working with color\n",
    "* Transformations make visualizations readable\n",
    "\n",
    "(Pt 2. covers multi-dimensional data, layering, context, small multiples/faceting)"
   ]
  },
  {
   "cell_type": "markdown",
   "metadata": {
    "slideshow": {
     "slide_type": "notes"
    }
   },
   "source": [
    "This introduction to data visualization is made up of several sections. We will first survey some tools for making visualizations. Then we will develop some concepts and terminology to think about visualizations. The bulk of the material is in the final two sections which focus on choosing mappings from data to visuals and ways of providing context in data visualizations, respectively. Part 1 is about developing a foundation for thinking about visualizations. Part 2 (a separate presentation) builds on this foundation and looks at working with multi-dimensional data, layering information, ways of providing context, and the topic of small multiples/faceting."
   ]
  },
  {
   "cell_type": "markdown",
   "metadata": {
    "slideshow": {
     "slide_type": "subslide"
    }
   },
   "source": [
    "# References\n",
    "\n",
    "<div style=\"display: flex; flex-direction: row;  justify-content: space-around\">\n",
    "\n",
    "<div>\n",
    "\n",
    "<h2>Edward Tufte</h2>\n",
    "<ul>\n",
    "<li><a href=\"https://www.amazon.com/Visual-Display-Quantitative-Information/dp/0961392142/\">Visual Display of Quantitative Information</a></li>\n",
    "<li><a href=\"https://www.amazon.com/Envisioning-Information-Edward-R-Tufte/dp/0961392118/\">Envisioning Information</a></li>\n",
    "<li><a href=\"https://www.amazon.com/Visual-Explanations-Quantities-Evidence-Narrative/dp/0961392126/\">Visual Explanations</a></li>\n",
    "</ul>\n",
    "\n",
    "</div>\n",
    "\n",
    "<div>\n",
    "\n",
    "<h2>Online</h2>\n",
    "<ul>\n",
    "<li><a href=\"https://magrawala.github.io/cs448b-fa17/\">Maneesh Agrawala’s Visualization Course</a></li>\n",
    "<li><a href=\"https://courses.cs.washington.edu/courses/cse442/17au/\">Jeffrey Heer’s Visualization Course</a></li>\n",
    "<li><a href=\"https://www.tableau.com/sites/default/files/media/designing-great-visualizations.pdf\">Jock Mackinlay’s Designing Great Visualizations</a></li>\n",
    "</ul>\n",
    "\n",
    "</div>\n",
    "</div>\n",
    "\n",
    "\n",
    "\n",
    "<!-- * Müller-Brockmann -->"
   ]
  },
  {
   "cell_type": "markdown",
   "metadata": {
    "slideshow": {
     "slide_type": "notes"
    }
   },
   "source": [
    "These materials here borrow extensively from others."
   ]
  },
  {
   "cell_type": "markdown",
   "metadata": {
    "slideshow": {
     "slide_type": "slide"
    }
   },
   "source": [
    "# Tools for Visualization"
   ]
  },
  {
   "cell_type": "markdown",
   "metadata": {
    "slideshow": {
     "slide_type": "notes"
    }
   },
   "source": [
    "There are many tools out there for making visualizations. You may already be very familiar with one or more. In this presentation, we will not go into any of them in detail, but you may be interested to know what is out there."
   ]
  },
  {
   "cell_type": "markdown",
   "metadata": {
    "slideshow": {
     "slide_type": "subslide"
    }
   },
   "source": [
    "## Point & Click\n",
    "\n",
    "* Excel / Numbers / etc.\n",
    "* [Tableau](https://www.tableau.com)\n",
    "* [Spotfire](https://www.tibco.com/products/tibco-spotfire)\n",
    "* [Power BI](https://powerbi.microsoft.com/en-us/)"
   ]
  },
  {
   "cell_type": "markdown",
   "metadata": {
    "slideshow": {
     "slide_type": "notes"
    }
   },
   "source": [
    "Widely used spreadsheet software, like Excel, offer tools for making visualizations from tables of data. These have limited flexibility, but are very easy to use.\n",
    "\n",
    "Tableau, Spotfire, and Power BI are all GUI-driven tools specifically for data visualization."
   ]
  },
  {
   "cell_type": "markdown",
   "metadata": {
    "slideshow": {
     "slide_type": "subslide"
    }
   },
   "source": [
    "<div style=\"display: flex; flex-direction: row;  justify-content: space-around\">\n",
    "\n",
    "<div style=\"width: 300px\">\n",
    "<h2>R</h2>\n",
    "<ul>\n",
    "<li>ggplot</li>\n",
    "</ul>\n",
    "</div>\n",
    "\n",
    "<div style=\"width: 430px\">\n",
    "<h2>Python</h2>\n",
    "<ul>\n",
    "<li>matplotlib</li>\n",
    "<li>seaborn</li>\n",
    "<li>bokeh</li>\n",
    "<li>altair</li>\n",
    "<li>HoloViews</li>\n",
    "</ul>\n",
    "</div>\n",
    "\n",
    "<div style=\"width: 430px\">\n",
    "<h2>JavaScript</h2>\n",
    "<ul>\n",
    "<li><strong><a href=\"https://vega.github.io/vega/\">Vega</a> / <a href=\"https://vega.github.io/vega-lite/\">Vega-Lite</a></strong></li>\n",
    "<li><a href=\"https://d3js.org\">D3</a></li>\n",
    "<li><a href=\"https://c3js.org\">C3</a></li>\n",
    "<li><a href=\"https://plot.ly\">plot.ly</a></li>\n",
    "</ul>\n",
    "</div>\n",
    "</div>"
   ]
  },
  {
   "cell_type": "markdown",
   "metadata": {
    "slideshow": {
     "slide_type": "notes"
    }
   },
   "source": [
    "Programming languages also provide frameworks for data visualization, including, of course, widely used languages for data analysis like R and Python. The landscape in R is cleaner, in Python there has been much recent activity to develop modern, web-friendly alternatives to the classic matplotlib.\n",
    "\n",
    "And JavaScript, though not typically an an environment for data analysis, is the primary programming language for the web and has powerful frameworks for visualizing data.\n",
    "\n",
    "I am not going to say much about all of these in detail, but I wanted to highlight Vega and Vega-Lite, which are declarative specifications for describing data visualizations."
   ]
  },
  {
   "cell_type": "markdown",
   "metadata": {
    "slideshow": {
     "slide_type": "slide"
    }
   },
   "source": [
    "# Thinking About Visualizations"
   ]
  },
  {
   "cell_type": "markdown",
   "metadata": {
    "slideshow": {
     "slide_type": "notes"
    }
   },
   "source": [
    "We defined our goal as supporting quantitative reasoning visually. This has implications for how we build visualizations."
   ]
  },
  {
   "cell_type": "markdown",
   "metadata": {
    "slideshow": {
     "slide_type": "subslide"
    }
   },
   "source": [
    "![visualization chart](https://github.com/ft-interactive/chart-doctor/raw/master/visual-vocabulary/poster.png)"
   ]
  },
  {
   "cell_type": "markdown",
   "metadata": {
    "slideshow": {
     "slide_type": "notes"
    }
   },
   "source": [
    "There are many different ways to visualize data. Choosing among them requires thinking about the kind of information that you are trying to communicate. This chart from the newspaper *The Financial Times* shows a large number of common and some less common visualizations and explains what situations they are good for. Although the visualizations can vary greatly in the ways they appear, underneath, they share very much in common."
   ]
  },
  {
   "cell_type": "markdown",
   "metadata": {
    "slideshow": {
     "slide_type": "subslide"
    }
   },
   "source": [
    "## The parts of a visualization\n",
    "\n",
    "![visualization](images/context.png)"
   ]
  },
  {
   "cell_type": "markdown",
   "metadata": {
    "slideshow": {
     "slide_type": "subslide"
    }
   },
   "source": [
    "## Marks\n",
    "\n",
    "![marks](images/marks.png)"
   ]
  },
  {
   "cell_type": "markdown",
   "metadata": {
    "slideshow": {
     "slide_type": "notes"
    }
   },
   "source": [
    "The core of a visualization is made up of the marks that represent data."
   ]
  },
  {
   "cell_type": "markdown",
   "metadata": {
    "slideshow": {
     "slide_type": "subslide"
    }
   },
   "source": [
    "## Context: axes, tick marks, title (legend)\n",
    "\n",
    "![axes](images/axes.png)"
   ]
  },
  {
   "cell_type": "markdown",
   "metadata": {
    "slideshow": {
     "slide_type": "subslide"
    }
   },
   "source": [
    "## Context: model, predictions, labels, data source\n",
    "\n",
    "![context](images/context.png)"
   ]
  },
  {
   "cell_type": "markdown",
   "metadata": {
    "slideshow": {
     "slide_type": "subslide"
    }
   },
   "source": [
    "## Marks are defined by mapping\n"
   ]
  },
  {
   "cell_type": "markdown",
   "metadata": {
    "slideshow": {
     "slide_type": "subslide"
    }
   },
   "source": [
    "## Visualization maps from data to marks in an image\n",
    "\n",
    "![mapping](images/mapping.png)"
   ]
  },
  {
   "cell_type": "markdown",
   "metadata": {
    "slideshow": {
     "slide_type": "notes"
    }
   },
   "source": [
    "Visualizations are realized by mapping data variables to visual variables\n",
    "\n",
    "Visual variables include position, shape, brightness, hue (color), transparency. Doing this well requires being aware of what visual variables we have at our disposal and drawing upon knowledge from graphic design (colors, typography, layout), psychology/human factors, and statistics. It may be necessary to apply a transformation to the data along the way."
   ]
  },
  {
   "cell_type": "markdown",
   "metadata": {
    "slideshow": {
     "slide_type": "subslide"
    }
   },
   "source": [
    "## Visual inferences should be valid data inferences\n",
    "\n",
    "<img alt=\"jet-spread\" width=\"400px\" src=\"images/jet-spread.png\" />"
   ]
  },
  {
   "cell_type": "markdown",
   "metadata": {
    "slideshow": {
     "slide_type": "notes"
    }
   },
   "source": [
    "To make quantitative reasoning possible through your eyes, we need to choose mappings that ensure that visual inferences are valid data inferences. Look at the above visualization. How do you expect the underlying data to be distributed? You probably see contours and bands of similar values. We will later look back at this and see if the data matches."
   ]
  },
  {
   "cell_type": "markdown",
   "metadata": {
    "slideshow": {
     "slide_type": "slide"
    }
   },
   "source": [
    "# Scales of Measurement"
   ]
  },
  {
   "cell_type": "markdown",
   "metadata": {
    "slideshow": {
     "slide_type": "notes"
    }
   },
   "source": [
    "In statistics, measurements occur on a scale, and for different scales, different kinds of operations are possible. Visualizations need to take scales of measurements into account."
   ]
  },
  {
   "cell_type": "markdown",
   "metadata": {
    "slideshow": {
     "slide_type": "subslide"
    }
   },
   "source": [
    "<div style=\"width: 800px\">\n",
    "<table class=\"table table-sm\" style=\"font-size: 18px\">\n",
    "    <thead>\n",
    "        <tr>\n",
    "            <th>Scale</th>\n",
    "            <th>Type</th>\n",
    "            <th>Properties</th>\n",
    "        </tr>\n",
    "    </thead>\n",
    "    <tbody>\n",
    "        <tr>\n",
    "            <td>Nominal</td>\n",
    "            <td>Label</td>\n",
    "            <td>Qualitative, no ordering</td>\n",
    "        </tr>\n",
    "        <tr>\n",
    "            <td>Ordinal</td>\n",
    "            <td>Label or Number</td>\n",
    "            <td>Ordered, but not otherwise comparable</td>\n",
    "        </tr>\n",
    "        <tr>\n",
    "            <td>Interval</td>\n",
    "            <td>Number</td>\n",
    "            <td>Differences can be compared</td>\n",
    "        </tr>\n",
    "        <tr>\n",
    "            <td>Ratio</td>\n",
    "            <td>Number</td>\n",
    "            <td>Has a fixed zero, can divide one value by another</td>\n",
    "        </tr>\n",
    "    </tbody>\n",
    "</table>\n",
    "</div>"
   ]
  },
  {
   "cell_type": "markdown",
   "metadata": {
    "slideshow": {
     "slide_type": "subslide"
    }
   },
   "source": [
    "<div style=\"width: 600px\">\n",
    "<table class=\"table table-sm\" style=\"font-size: 18px\">\n",
    "    <thead>\n",
    "        <tr>\n",
    "            <th>Scale</th>\n",
    "            <th>Examples</th>\n",
    "        </tr>\n",
    "    </thead>\n",
    "    <tbody>\n",
    "        <tr>\n",
    "            <td>Nominal</td>\n",
    "            <td>Gender, color, city, species</td>\n",
    "        </tr>\n",
    "        <tr>\n",
    "            <td>Ordinal</td>\n",
    "            <td>Happy/indifferent/unhappy, S/M/L/XL</td>\n",
    "        </tr>\n",
    "        <tr>\n",
    "            <td>Interval</td>\n",
    "            <td>Dates, temp (C)</td>\n",
    "        </tr>\n",
    "        <tr>\n",
    "            <td>Ratio</td>\n",
    "            <td>Meters, money, temp (K)</td>\n",
    "        </tr>\n",
    "    </tbody>\n",
    "</table>\n",
    "</div>"
   ]
  },
  {
   "cell_type": "markdown",
   "metadata": {
    "slideshow": {
     "slide_type": "slide"
    }
   },
   "source": [
    "# Selecting Mappings"
   ]
  },
  {
   "cell_type": "markdown",
   "metadata": {
    "slideshow": {
     "slide_type": "subslide"
    }
   },
   "source": [
    "## Jacques Bertin, *Sémiologie Graphique* (1967)\n",
    "\n",
    "<img alt=\"bertin mappings\" src=\"http://3.bp.blogspot.com/-CChUqYR6DVc/T04XRZV1owI/AAAAAAAAACQ/3ftIrpYZj-g/s640/les_variables.jpg\">\n",
    "\n",
    "Image from http://pauline-blot.blogspot.ch/2012/02/jacques-bertin.html"
   ]
  },
  {
   "cell_type": "markdown",
   "metadata": {
    "slideshow": {
     "slide_type": "notes"
    }
   },
   "source": [
    "Bertin was a cartographer and semiotician who started thinking systematically about how do represent data in visual form."
   ]
  },
  {
   "cell_type": "markdown",
   "metadata": {
    "slideshow": {
     "slide_type": "subslide"
    }
   },
   "source": [
    "## Jacques Bertin, *Sémiologie Graphique* (1967)\n",
    "\n",
    "<div style=\"display: flex; flex-direction: row;  justify-content: space-around\">\n",
    "\n",
    "<div>\n",
    "    <img width=\"300px\" alt=\"bertin mappings\" src=\"http://3.bp.blogspot.com/-CChUqYR6DVc/T04XRZV1owI/AAAAAAAAACQ/3ftIrpYZj-g/s640/les_variables.jpg\" />\n",
    "</div>\n",
    "\n",
    "<div style=\"width: 20px\">\n",
    "    &nbsp;\n",
    "</div>\n",
    "\n",
    "<div style=\"width: 600px\">\n",
    "<table class=\"table table-sm\" style=\"font-size: 18px\">\n",
    "    <thead>\n",
    "        <tr>\n",
    "            <th>Visual Variable</th>\n",
    "            <th>Kind of Data</th>\n",
    "        </tr>\n",
    "    </thead>\n",
    "    <tbody>\n",
    "        <tr>\n",
    "            <td>Position</td>\n",
    "            <td>Nominal, Ordinal, Interval, Ratio</td>\n",
    "        </tr>\n",
    "        <tr>\n",
    "            <td>Size</td>\n",
    "            <td>Nominal, Ordinal, Interval, Ratio</td>\n",
    "        </tr>\n",
    "        <tr>\n",
    "            <td>Brightness</td>\n",
    "            <td>Nominal, Ordinal, Interval, Ratio</td>\n",
    "        </tr>\n",
    "        <tr>\n",
    "            <td>Texture</td>\n",
    "            <td>Nominal, Ordinal</td>\n",
    "        </tr>\n",
    "        <tr>\n",
    "            <td>Hue</td>\n",
    "            <td>Nominal</td>\n",
    "        </tr>\n",
    "        <tr>\n",
    "            <td>Shape</td>\n",
    "            <td>Nominal</td>\n",
    "        </tr>\n",
    "    </tbody>\n",
    "</table>\n",
    "</div>\n",
    "</div>"
   ]
  },
  {
   "cell_type": "markdown",
   "metadata": {
    "slideshow": {
     "slide_type": "notes"
    }
   },
   "source": [
    "He created a catalogue of visual variables that can be manipulated and considered the kinds of operations that we can do with those visual variables using our eyes. He used this to create a catalogue of possible mappings of data to visual variables using the constraint that any valid operation with the scale of measurement of the data should be possible with the visual variable."
   ]
  },
  {
   "cell_type": "markdown",
   "metadata": {
    "slideshow": {
     "slide_type": "subslide"
    }
   },
   "source": [
    "## Cleveland & McGill, _Graphical Perception_ (1984)\n",
    "\n",
    "<img alt=\"cleveland mcgill pie comparisons\" width=\"400\" src=\"./images/cleveland_mcgill_pie.png\">\n",
    "<img alt=\"cleveland mcgill bar comparisons\" src=\"./images/cleveland_mcgill_bar.png\">\n",
    "\n",
    "Images from _Graphical Perception: Theory, Experimentation, and Application to the Development of Graphical Methods_, William S. Cleveland and Robert McGill, Journal of the American Statistical Association, Vol. 79, No. 387 (Sep., 1984), pp. 531-554"
   ]
  },
  {
   "cell_type": "markdown",
   "metadata": {
    "slideshow": {
     "slide_type": "notes"
    }
   },
   "source": [
    "Whereas Bertin evaluated mapping strategies analytically, in the 1980s, two researchers, William Cleveland and Robert McGill set out to acquire quantitative data comparing the efficacy of different mappings.\n",
    "\n",
    "They had subjects perform quantitative tasks using the same data presented with different mappings and evaluated performance in terms of speed and accuracy."
   ]
  },
  {
   "cell_type": "markdown",
   "metadata": {
    "slideshow": {
     "slide_type": "subslide"
    }
   },
   "source": [
    "## Mackinlay *Automating the Design of Graphical Presentations of Relational Information* 1986\n",
    "\n",
    "<img alt=\"mackinlay ordered mappings\" src=\"./images/mackinlay.png\">\n",
    "\n",
    "Redrawn from https://www.tableau.com/sites/default/files/whitepapers/designing-great-visual-communications.pdf"
   ]
  },
  {
   "cell_type": "markdown",
   "metadata": {
    "slideshow": {
     "slide_type": "notes"
    }
   },
   "source": [
    "Jock Mackinlay used the catalogue of Bertin and the data from Cleveland and McGill to automate the choice of mappings. He summarized Cleveland and McGill's findings in a slopeograph."
   ]
  },
  {
   "cell_type": "markdown",
   "metadata": {},
   "source": [
    "# Example\n",
    "\n",
    "Let us use these principles to produce a visualization. We will use automobile fuel-efficiency data to investigate the following question: Are 1999 autos more or less efficient than 2008? What does the picture look like in general, and what does it look like for the same model?\n",
    "\n",
    "To answer, we need to look at 3 variables: city fuel mileage, highway fuel mileage, and year."
   ]
  },
  {
   "cell_type": "code",
   "execution_count": 8,
   "metadata": {},
   "outputs": [],
   "source": [
    "%matplotlib inline\n",
    "import numpy as np\n",
    "import pandas as pd\n",
    "import matplotlib as mpl\n",
    "import matplotlib.pyplot as plt\n",
    "import seaborn as sns\n",
    "sns.set()\n",
    "\n",
    "df = pd.read_csv(\"data/mpg.csv\")"
   ]
  },
  {
   "cell_type": "markdown",
   "metadata": {},
   "source": [
    "## Version 1: Text\n",
    "\n",
    "Compute the mean fuel efficiency and state it."
   ]
  },
  {
   "cell_type": "code",
   "execution_count": 15,
   "metadata": {},
   "outputs": [
    {
     "name": "stdout",
     "output_type": "stream",
     "text": [
      "In 1999, mean city gas milage was 17.02 MPG, compared to 16.70 MPG in 2008\n",
      "In 1999, mean highway gas milage was 23.43 MPG, compared to 23.45 MPG in 2008\n"
     ]
    }
   ],
   "source": [
    "mean_df = df.groupby('year').mean()\n",
    "print(\"In 1999, mean city gas milage was {:.2f} MPG, compared to {:.2f} MPG in 2008\".format(mean_df.loc[1999, 'cty'], mean_df.loc[2008, 'cty']))\n",
    "print(\"In 1999, mean highway gas milage was {:.2f} MPG, compared to {:.2f} MPG in 2008\".format(mean_df.loc[1999, 'hwy'], mean_df.loc[2008, 'hwy']))"
   ]
  },
  {
   "cell_type": "markdown",
   "metadata": {},
   "source": [
    "## Version 2: x -> cty, y -> hwy, color -> year"
   ]
  },
  {
   "cell_type": "code",
   "execution_count": 29,
   "metadata": {
    "scrolled": true
   },
   "outputs": [
    {
     "data": {
      "image/png": "[encoded data removed]",
      "text/plain": [
       "<Figure size 432x288 with 1 Axes>"
      ]
     },
     "metadata": {},
     "output_type": "display_data"
    }
   ],
   "source": [
    "fig, ax = plt.subplots()\n",
    "colors = sns.color_palette()\n",
    "df_1999 = df[df['year'] == 1999]\n",
    "df_1999.plot.scatter(x=\"hwy\", y=\"cty\", color=colors[0], ax=ax, alpha=0.5, label=\"1999\")\n",
    "df_2008 = df[df['year'] == 2008]\n",
    "df_2008.plot.scatter(x=\"hwy\", y=\"cty\", color=colors[1], ax=ax, alpha=0.5, label=\"2008\");"
   ]
  },
  {
   "cell_type": "markdown",
   "metadata": {},
   "source": [
    "# Outliers\n",
    "\n",
    "Looking at the above, we see that they numbers may be influenced by the two outliers.\n"
   ]
  },
  {
   "cell_type": "code",
   "execution_count": 30,
   "metadata": {},
   "outputs": [
    {
     "name": "stdout",
     "output_type": "stream",
     "text": [
      "In 1999, median city gas milage was 17.00 MPG, compared to 16.70 MPG in 2008\n",
      "In 1999, median highway gas milage was 25.00 MPG, compared to 23.45 MPG in 2008\n"
     ]
    }
   ],
   "source": [
    "median_df = df.groupby('year').median()\n",
    "print(\"In 1999, median city gas milage was {:.2f} MPG, compared to {:.2f} MPG in 2008\".format(median_df.loc[1999, 'cty'], mean_df.loc[2008, 'cty']))\n",
    "print(\"In 1999, median highway gas milage was {:.2f} MPG, compared to {:.2f} MPG in 2008\".format(median_df.loc[1999, 'hwy'], mean_df.loc[2008, 'hwy']))"
   ]
  },
  {
   "cell_type": "markdown",
   "metadata": {},
   "source": [
    "## Version 3: x -> year, y -> cty/hwy"
   ]
  },
  {
   "cell_type": "code",
   "execution_count": 64,
   "metadata": {},
   "outputs": [
    {
     "name": "stdout",
     "output_type": "stream",
     "text": [
      "18 cars in multiple years of total 38\n",
      "15 manufacturers\n"
     ]
    }
   ],
   "source": [
    "multiple = []\n",
    "for name, mdf in df.groupby(['model', 'trans', 'displ', 'cyl', 'fl']):\n",
    "    if len(pd.unique(mdf['year'])) > 1:\n",
    "        multiple.append(name)\n",
    "print(len(multiple), \"cars in multiple years of total\", len(pd.unique(df['model'])))\n",
    "print(len(pd.unique(df['manufacturer'])), \"manufacturers\")"
   ]
  },
  {
   "cell_type": "code",
   "execution_count": 80,
   "metadata": {},
   "outputs": [
    {
     "data": {
      "image/png": "[encoded data removed]",
      "text/plain": [
       "<Figure size 432x288 with 2 Axes>"
      ]
     },
     "metadata": {},
     "output_type": "display_data"
    }
   ],
   "source": [
    "def lines_for_shared(ax, var):\n",
    "    for name, mdf in df.groupby(['model', 'trans', 'displ', 'cyl', 'fl']):\n",
    "        if len(pd.unique(mdf['year'])) < 2:\n",
    "            continue\n",
    "        for val1999, val2008 in zip(mdf.loc[mdf['year'] == 1999, var], mdf.loc[mdf['year'] == 2008, var]):\n",
    "            x = [1999, 2008]\n",
    "            y = [val1999, val2008]\n",
    "            ax.plot(x, y, color=colors[0], alpha=0.5)\n",
    "fig, axs = plt.subplots(1, 2, sharey=True)\n",
    "ax=axs[0]\n",
    "ax.set_title(\"city\")\n",
    "df.plot.scatter(x='year', y='cty', alpha=0.5, color=colors[0], ax=ax)\n",
    "lines_for_shared(ax, 'cty')\n",
    "ax.set_xticks([1999, 2008]);\n",
    "ax=axs[1]\n",
    "ax.set_title(\"highway\")\n",
    "df.plot.scatter(x='year', y='hwy', alpha=0.5, color=colors[0], ax=ax)\n",
    "lines_for_shared(ax, 'hwy')\n",
    "ax.set_xticks([1999, 2008]);"
   ]
  },
  {
   "cell_type": "markdown",
   "metadata": {
    "slideshow": {
     "slide_type": "slide"
    }
   },
   "source": [
    "# Color"
   ]
  },
  {
   "cell_type": "markdown",
   "metadata": {
    "slideshow": {
     "slide_type": "notes"
    }
   },
   "source": [
    "Working with color can be tricky. Poor choice of color palette can render an otherwise good visualization completely useless."
   ]
  },
  {
   "cell_type": "markdown",
   "metadata": {
    "slideshow": {
     "slide_type": "subslide"
    }
   },
   "source": [
    "## Visual inferences should be valid data inferences\n",
    "\n",
    "<div style=\"display: flex; flex-direction: row;  justify-content: space-around\">\n",
    "\n",
    "<div style=\"width: 300px\">\n",
    "  <img alt=\"jet-spread\" src=\"images/jet-spread.png\" />\n",
    "</div>\n",
    "</div>"
   ]
  },
  {
   "cell_type": "markdown",
   "metadata": {
    "slideshow": {
     "slide_type": "notes"
    }
   },
   "source": [
    "Here is the plot from earlier again. What do you think the data looks like? Are there bands of similar values?"
   ]
  },
  {
   "cell_type": "markdown",
   "metadata": {
    "slideshow": {
     "slide_type": "subslide"
    }
   },
   "source": [
    "## Visual inferences should be valid data inferences\n",
    "\n",
    "<div style=\"display: flex; flex-direction: row;  justify-content: space-around\">\n",
    "\n",
    "<div style=\"width: 300px\">\n",
    "  <img alt=\"jet-spread\" src=\"images/jet-spread.png\" />\n",
    "</div>\n",
    "<div>\n",
    "    &nbsp;\n",
    "</div>\n",
    "<div style=\"width: 300px\">\n",
    "  <img alt=\"jet-spread\" src=\"images/gray-spread.png\" />\n",
    "</div>\n",
    "</div>"
   ]
  },
  {
   "cell_type": "markdown",
   "metadata": {
    "slideshow": {
     "slide_type": "notes"
    }
   },
   "source": [
    "Here is the same data shown using a grayscale colormap on the right."
   ]
  },
  {
   "cell_type": "code",
   "execution_count": 15,
   "metadata": {
    "slideshow": {
     "slide_type": "notes"
    }
   },
   "outputs": [
    {
     "data": {
      "image/png": "[encoded data removed]",
      "text/plain": [
       "<matplotlib.figure.Figure at 0x115271f98>"
      ]
     },
     "metadata": {},
     "output_type": "display_data"
    }
   ],
   "source": [
    "%matplotlib inline\n",
    "import numpy as np\n",
    "import pandas as pd\n",
    "import matplotlib as mpl\n",
    "import matplotlib.pyplot as plt\n",
    "import seaborn as sns\n",
    "sns.set(style='dark')\n",
    "\n",
    "def get_image():\n",
    "    delta = 0.0025\n",
    "    x = y = np.arange(-1.5, 1.5, delta)\n",
    "    X, Y = np.meshgrid(x, y)\n",
    "    Z = np.exp(-X**2 - Y**2)\n",
    "    return Z\n",
    "\n",
    "cmaps = ['jet', 'gray', 'viridis']\n",
    "fix, axs = plt.subplots(1, len(cmaps), figsize=(10, 10))\n",
    "for ax, cmap in zip(axs, cmaps):\n",
    "    ax.imshow(get_image(), cmap=cmap)\n",
    "    ax.set_xticklabels([])\n",
    "    ax.set_yticklabels([])\n",
    "    ax.set_title(cmap)"
   ]
  },
  {
   "cell_type": "markdown",
   "metadata": {
    "slideshow": {
     "slide_type": "notes"
    }
   },
   "source": [
    "The choice of color palette can greatly influence how the data are interpreted. Jet and rainbow are terrible colormaps for visualization. Grayscale is a safe choice, but might be too visually bland. There are palettes like viridis that are less stark than grayscale, but still designed to be interpretable."
   ]
  },
  {
   "cell_type": "markdown",
   "metadata": {
    "slideshow": {
     "slide_type": "subslide"
    }
   },
   "source": [
    "# Kinds of palettes\n",
    "\n",
    "* **Qualitative** for categorical data\n",
    "* **Diverging** for numerical data with a clear central point\n",
    "* **Sequential** for numerical data otherwise\n"
   ]
  },
  {
   "cell_type": "code",
   "execution_count": 21,
   "metadata": {
    "scrolled": true,
    "slideshow": {
     "slide_type": "subslide"
    }
   },
   "outputs": [
    {
     "name": "stdout",
     "output_type": "stream",
     "text": [
      "qualitative\n"
     ]
    },
    {
     "data": {
      "image/png": "[encoded data removed]",
      "text/plain": [
       "<matplotlib.figure.Figure at 0x11525b0b8>"
      ]
     },
     "metadata": {},
     "output_type": "display_data"
    },
    {
     "data": {
      "image/png": "[encoded data removed]",
      "text/plain": [
       "<matplotlib.figure.Figure at 0x11156e160>"
      ]
     },
     "metadata": {},
     "output_type": "display_data"
    },
    {
     "data": {
      "image/png": "[encoded data removed]",
      "text/plain": [
       "<matplotlib.figure.Figure at 0x115485eb8>"
      ]
     },
     "metadata": {},
     "output_type": "display_data"
    }
   ],
   "source": [
    "%matplotlib inline\n",
    "import seaborn as sns\n",
    "\n",
    "print(\"qualitative\")\n",
    "sns.palplot(sns.color_palette('Set1', 9))\n",
    "sns.palplot(sns.color_palette('Pastel1', 9))\n",
    "sns.palplot(sns.color_palette('Set3', 9))"
   ]
  },
  {
   "cell_type": "code",
   "execution_count": 23,
   "metadata": {
    "slideshow": {
     "slide_type": "subslide"
    }
   },
   "outputs": [
    {
     "name": "stdout",
     "output_type": "stream",
     "text": [
      "diverging\n"
     ]
    },
    {
     "data": {
      "image/png": "[encoded data removed]",
      "text/plain": [
       "<matplotlib.figure.Figure at 0x115485a20>"
      ]
     },
     "metadata": {},
     "output_type": "display_data"
    },
    {
     "data": {
      "image/png": "[encoded data removed]",
      "text/plain": [
       "<matplotlib.figure.Figure at 0x11153ea58>"
      ]
     },
     "metadata": {},
     "output_type": "display_data"
    },
    {
     "data": {
      "image/png": "[encoded data removed]",
      "text/plain": [
       "<matplotlib.figure.Figure at 0x11524ba58>"
      ]
     },
     "metadata": {},
     "output_type": "display_data"
    }
   ],
   "source": [
    "%matplotlib inline\n",
    "import seaborn as sns\n",
    "\n",
    "print(\"diverging\")\n",
    "sns.palplot(sns.color_palette('RdBu', 9))\n",
    "sns.palplot(sns.color_palette('BrBG', 9))\n",
    "sns.palplot(sns.color_palette('Spectral', 9))"
   ]
  },
  {
   "cell_type": "code",
   "execution_count": 22,
   "metadata": {
    "slideshow": {
     "slide_type": "subslide"
    }
   },
   "outputs": [
    {
     "name": "stdout",
     "output_type": "stream",
     "text": [
      "sequential\n"
     ]
    },
    {
     "data": {
      "image/png": "[encoded data removed]",
      "text/plain": [
       "<matplotlib.figure.Figure at 0x115468f98>"
      ]
     },
     "metadata": {},
     "output_type": "display_data"
    },
    {
     "data": {
      "image/png": "[encoded data removed]",
      "text/plain": [
       "<matplotlib.figure.Figure at 0x115468588>"
      ]
     },
     "metadata": {},
     "output_type": "display_data"
    },
    {
     "data": {
      "image/png": "[encoded data removed]",
      "text/plain": [
       "<matplotlib.figure.Figure at 0x1116c5390>"
      ]
     },
     "metadata": {},
     "output_type": "display_data"
    }
   ],
   "source": [
    "%matplotlib inline\n",
    "import seaborn as sns\n",
    "\n",
    "print(\"sequential\")\n",
    "sns.palplot(sns.color_palette('YlGnBu', 9))\n",
    "sns.palplot(sns.color_palette('PuRd', 9))\n",
    "sns.palplot(sns.color_palette('Blues', 9))"
   ]
  },
  {
   "cell_type": "markdown",
   "metadata": {
    "slideshow": {
     "slide_type": "subslide"
    }
   },
   "source": [
    "# Advice\n",
    "\n",
    "- Use a carefully designed palette (e.g., [Colorbrewer](http://colorbrewer2.org))\n",
    "- Tufte: Above all do no harm"
   ]
  },
  {
   "cell_type": "markdown",
   "metadata": {
    "slideshow": {
     "slide_type": "slide"
    }
   },
   "source": [
    "# Transformations\n",
    "\n",
    "(to be filled in)"
   ]
  },
  {
   "cell_type": "markdown",
   "metadata": {},
   "source": [
    "# Example\n",
    "\n",
    "Convert the fuel data for cars in both periods to percentages."
   ]
  },
  {
   "cell_type": "code",
   "execution_count": 94,
   "metadata": {},
   "outputs": [
    {
     "data": {
      "image/png": "[encoded data removed]",
      "text/plain": [
       "<Figure size 432x288 with 2 Axes>"
      ]
     },
     "metadata": {},
     "output_type": "display_data"
    }
   ],
   "source": [
    "keys = ['model', 'trans', 'displ', 'cyl', 'fl']\n",
    "def diff_frame(var):\n",
    "    result = []\n",
    "    for name, mdf in df.groupby(keys):\n",
    "        if len(pd.unique(mdf['year'])) < 2:\n",
    "            continue\n",
    "        for val1999, val2008 in zip(mdf.loc[mdf['year'] == 1999, var], mdf.loc[mdf['year'] == 2008, var]):\n",
    "            elt = {k:mdf.iloc[0][k] for k in keys}\n",
    "            elt['start'] = 0\n",
    "            elt['end'] = val2008 - val1999\n",
    "            result.append(elt)\n",
    "    return pd.DataFrame(result)\n",
    "\n",
    "\n",
    "\n",
    "def plot_diff(ax, var):\n",
    "    diff_df = diff_frame(var)\n",
    "    for i, row in diff_df.iterrows():\n",
    "        val1999 = row['start']\n",
    "        val2008 = row['end']\n",
    "        ax.scatter(1999, val1999, color=colors[0], alpha=0.2)\n",
    "        ax.scatter(2008, val2008, color=colors[0], alpha=0.2)\n",
    "        x = [1999, 2008]\n",
    "        y = [val1999, val2008]\n",
    "        ax.plot(x, y, color=colors[0], alpha=0.2)\n",
    "fig, axs = plt.subplots(1, 2, sharey=True)\n",
    "diff_df = diff_data('cty')\n",
    "ax=axs[0]\n",
    "ax.set_title(\"city\")\n",
    "plot_diff(ax, 'cty')\n",
    "ax.set_xticks([1999, 2008]);\n",
    "ax=axs[1]\n",
    "ax.set_title(\"highway\")\n",
    "plot_diff(ax, 'hwy')\n",
    "ax.set_xticks([1999, 2008]);"
   ]
  },
  {
   "cell_type": "code",
   "execution_count": 101,
   "metadata": {},
   "outputs": [
    {
     "data": {
      "image/png": "[encoded data removed]",
      "text/plain": [
       "<Figure size 432x288 with 2 Axes>"
      ]
     },
     "metadata": {},
     "output_type": "display_data"
    }
   ],
   "source": [
    "keys = ['model', 'trans', 'displ', 'cyl', 'fl']\n",
    "def pct_frame(var):\n",
    "    result = []\n",
    "    for name, mdf in df.groupby(keys):\n",
    "        if len(pd.unique(mdf['year'])) < 2:\n",
    "            continue\n",
    "        for val1999, val2008 in zip(mdf.loc[mdf['year'] == 1999, var], mdf.loc[mdf['year'] == 2008, var]):\n",
    "            elt = {k:mdf.iloc[0][k] for k in keys}\n",
    "            elt['start'] = 100\n",
    "            elt['end'] = (val2008 / val1999) * 100\n",
    "            result.append(elt)\n",
    "    return pd.DataFrame(result)\n",
    "\n",
    "\n",
    "def plot_pct_diff(ax, var):\n",
    "    diff_df = pct_frame(var)\n",
    "    for i, row in diff_df.iterrows():\n",
    "        val1999 = row['start']\n",
    "        val2008 = row['end']\n",
    "        ax.scatter(1999, val1999, color=colors[0], alpha=0.4)\n",
    "        ax.scatter(2008, val2008, color=colors[0], alpha=0.4)\n",
    "        x = [1999, 2008]\n",
    "        y = [val1999, val2008]\n",
    "        ax.plot(x, y, color=colors[0], alpha=0.4)\n",
    "fig, axs = plt.subplots(1, 2, sharey=True)\n",
    "diff_df = diff_data('cty')\n",
    "ax=axs[0]\n",
    "ax.set_title(\"city\")\n",
    "plot_pct_diff(ax, 'cty')\n",
    "ax.set_xticks([1999, 2008]);\n",
    "ax.set_ylabel(\"% change\")\n",
    "ax=axs[1]\n",
    "ax.set_title(\"highway\")\n",
    "plot_pct_diff(ax, 'hwy')\n",
    "ax.set_xticks([1999, 2008]);\n"
   ]
  },
  {
   "cell_type": "markdown",
   "metadata": {},
   "source": [
    "# Hands-On\n",
    "\n",
    "https://www.fueleconomy.gov/feg/download.shtml\n",
    "\n",
    "Create visualizations to answer the following questions:\n",
    "- Are 1999 autos more or less efficient than 2008?\n",
    "  - In general?\n",
    "  - Same model?\n",
    "- Is one manufacturer more or less efficient than the avg?\n",
    "- Does type of car show a relationship to fuel efficiency?\n",
    "- Does engine size show a relationship to fuel efficiency?\n",
    "\n",
    "Burtin Antibiotics data to illustrate transforms\n"
   ]
  },
  {
   "cell_type": "markdown",
   "metadata": {
    "slideshow": {
     "slide_type": "notes"
    }
   },
   "source": [
    "# Part II Teaser\n",
    "\n",
    "(Pt 2. covers multi-dimensional data, layering, context, small multiples)\n",
    "\n",
    "* Tufte's rules\n",
    "* The importance of context\n",
    "* Layering information\n",
    "* Ordering information"
   ]
  },
  {
   "cell_type": "code",
   "execution_count": null,
   "metadata": {},
   "outputs": [],
   "source": []
  }
 ],
 "metadata": {
  "celltoolbar": "Slideshow",
  "kernelspec": {
   "display_name": "Python 3",
   "language": "python",
   "name": "python3"
  },
  "language_info": {
   "codemirror_mode": {
    "name": "ipython",
    "version": 3
   },
   "file_extension": ".py",
   "mimetype": "text/x-python",
   "name": "python",
   "nbconvert_exporter": "python",
   "pygments_lexer": "ipython3",
   "version": "3.7.3"
  },
  "rise": {
   "theme": "simple"
  }
 },
 "nbformat": 4,
 "nbformat_minor": 2
}
