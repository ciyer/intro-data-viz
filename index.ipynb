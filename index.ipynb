{
 "cells": [
  {
   "cell_type": "markdown",
   "metadata": {
    "slideshow": {
     "slide_type": "slide"
    }
   },
   "source": [
    "# A Very, Very Brief Introduction to Data Visualization"
   ]
  },
  {
   "cell_type": "markdown",
   "metadata": {
    "slideshow": {
     "slide_type": "slide"
    }
   },
   "source": [
    "# About Me\n",
    "\n",
    "Chandrasekhar (Sekhar) Ramakrishnan<br>\n",
    "[@ciyer](https://twitter.com/ciyer)<br>\n",
    "\n",
    "Swiss Data Science Center<br>\n",
    "Propulsion Academy<br>\n",
    "[Illposed](https://illposed.com)"
   ]
  },
  {
   "cell_type": "markdown",
   "metadata": {
    "slideshow": {
     "slide_type": "slide"
    }
   },
   "source": [
    "# The Goal of Data Visualization"
   ]
  },
  {
   "cell_type": "markdown",
   "metadata": {
    "slideshow": {
     "slide_type": "slide"
    }
   },
   "source": [
    "## The goal of visualizing data is to enable quantitative reasoning with your eyes"
   ]
  },
  {
   "cell_type": "markdown",
   "metadata": {
    "slideshow": {
     "slide_type": "notes"
    }
   },
   "source": [
    "There are many valid answers to this question. One of them is the above. It is not the only answer, but it is the answer we will pursue here."
   ]
  },
  {
   "cell_type": "markdown",
   "metadata": {
    "slideshow": {
     "slide_type": "slide"
    }
   },
   "source": [
    "## One data set, two visualizations\n",
    "\n",
    "<table>\n",
    "    <tbody>\n",
    "        <tr>\n",
    "            <td><img width=\"505px\" alt=\"GQ Waisteline Viz\" src=\"https://i1.wp.com/flowingdata.com/wp-content/uploads/2010/09/waistline-measurement-chart-for-men.jpg?w=614&ssl=1\"></td>\n",
    "            <td><img width=\"550px\" alt=\"FD Waisteline Viz\" src=\"https://i2.wp.com/flowingdata.com/wp-content/uploads/2010/10/Pants-Size-Chart.png?w=550&ssl=1\"></td>\n",
    "        </tr>\n",
    "    </tbody>\n",
    "</table>\n",
    "\n",
    "From FlowingData https://flowingdata.com/2010/09/30/advertised-vs-actual-waistline/"
   ]
  },
  {
   "cell_type": "markdown",
   "metadata": {
    "slideshow": {
     "slide_type": "notes"
    }
   },
   "source": [
    "Consider these two visualizations of the same data set. The one on the right is a visualization of the kind we will be talking about, one designed to enable quantative reasoning. The one on the left is also a good visualization, but it has a different goal: its goal is to be entertaining. This is of course fine, and this visualization does a good job of realizing this goal, but it is not the kind of visualization we will be talking about."
   ]
  },
  {
   "cell_type": "markdown",
   "metadata": {
    "slideshow": {
     "slide_type": "slide"
    }
   },
   "source": [
    "# Table of Contents\n",
    "\n",
    "* Thinking about visualizations\n",
    "* Tools for visualization\n",
    "* Getting the most out of the humble scatter and line plots"
   ]
  },
  {
   "cell_type": "markdown",
   "metadata": {
    "slideshow": {
     "slide_type": "slide"
    }
   },
   "source": [
    "# References\n",
    "\n",
    "## Edward Tufte\n",
    "\n",
    "- [Visual Display of Quantitative Information](https://www.amazon.com/Visual-Display-Quantitative-Information/dp/0961392142/)\n",
    "- [Envisioning Information](https://www.amazon.com/Envisioning-Information-Edward-R-Tufte/dp/0961392118/)\n",
    "- [Visual Explanations](https://www.amazon.com/Visual-Explanations-Quantities-Evidence-Narrative/dp/0961392126/)\n",
    "\n",
    "## Online\n",
    "- [Maneesh Agrawala’s Visualization Course](https://magrawala.github.io/cs448b-fa17/)\n",
    "- [Jeffrey Heer’s Visualization Course](https://courses.cs.washington.edu/courses/cse442/17au/)\n",
    "- [Jock Mackinlay’s Designing Great Visualizations](https://www.tableau.com/sites/default/files/media/designing-great-visualizations.pdf)\n",
    "\n",
    "\n",
    "\n",
    "\n",
    "* Müller-Brockmann"
   ]
  },
  {
   "cell_type": "markdown",
   "metadata": {
    "slideshow": {
     "slide_type": "slide"
    }
   },
   "source": [
    "# Thinking About Visualizations"
   ]
  },
  {
   "cell_type": "markdown",
   "metadata": {
    "slideshow": {
     "slide_type": "notes"
    }
   },
   "source": [
    "Our goal has many implications for how we build visualizations."
   ]
  },
  {
   "cell_type": "markdown",
   "metadata": {
    "slideshow": {
     "slide_type": "slide"
    }
   },
   "source": [
    "## Visualization is mapping\n"
   ]
  },
  {
   "cell_type": "markdown",
   "metadata": {
    "slideshow": {
     "slide_type": "notes"
    }
   },
   "source": [
    "Visualizations are realized by mapping data variables to visual variables\n",
    "\n",
    "Visual variables include position, brightness, hue (color), transparancy, shape. Doing this well requires being aware of what visual variables we have at our disposal and drawing upon knowledge from graphic design (colors, typorgaphy, layout), psychology/human factors, and statistics. It may be necessary to apply a transformation to the data along the way."
   ]
  },
  {
   "cell_type": "markdown",
   "metadata": {
    "slideshow": {
     "slide_type": "slide"
    }
   },
   "source": [
    "## Visual inferences should be valid data inferences\n",
    "\n",
    "To make quantative reasoning possible through your eyes, we need to choose mappings that ensure that visual inferences are valid data inferences.\n",
    "\n",
    "* Rainbow colormap example"
   ]
  },
  {
   "cell_type": "markdown",
   "metadata": {},
   "source": [
    "## The parts of a visualization"
   ]
  },
  {
   "cell_type": "markdown",
   "metadata": {},
   "source": [
    "# Tools for Visualization"
   ]
  },
  {
   "cell_type": "markdown",
   "metadata": {},
   "source": [
    "Many tools exist\n",
    "* Excel\n",
    "* Tableau\n",
    "* Spotfire\n",
    "* Vega/Vega Lite\n",
    "\n",
    "Javascript\n",
    "* d3\n",
    "\n",
    "R\n",
    "* ggplot\n",
    "\n",
    "Python\n",
    "* matplotlib\n",
    "* seaborn\n",
    "* bokeh\n",
    "* altair\n",
    "* HoloViews"
   ]
  },
  {
   "cell_type": "markdown",
   "metadata": {},
   "source": [
    "# Thinking about Visualizations\n",
    "\n",
    "* Choosing among mappings\n",
    "* Tufte's rules\n",
    "* The importance of context\n",
    "* Layering information"
   ]
  },
  {
   "cell_type": "markdown",
   "metadata": {},
   "source": [
    "# Hands-On\n",
    "\n",
    "https://www.fueleconomy.gov/feg/download.shtml\n",
    "\n",
    "Qs: \n",
    "- Are 1999 autos more or less efficient than 2008?\n",
    "- Is one manufacturer more or less efficient than the avg?\n",
    "\n",
    "Burtin (transforms)\n"
   ]
  }
 ],
 "metadata": {
  "celltoolbar": "Slideshow",
  "kernelspec": {
   "display_name": "Python 3",
   "language": "python",
   "name": "python3"
  },
  "language_info": {
   "codemirror_mode": {
    "name": "ipython",
    "version": 3
   },
   "file_extension": ".py",
   "mimetype": "text/x-python",
   "name": "python",
   "nbconvert_exporter": "python",
   "pygments_lexer": "ipython3",
   "version": "3.6.8"
  }
 },
 "nbformat": 4,
 "nbformat_minor": 2
}
