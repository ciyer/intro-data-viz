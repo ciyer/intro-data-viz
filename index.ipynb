{
 "cells": [
  {
   "cell_type": "markdown",
   "metadata": {
    "slideshow": {
     "slide_type": "slide"
    }
   },
   "source": [
    "# A Very, Very Brief Introduction to Data Visualization"
   ]
  },
  {
   "cell_type": "markdown",
   "metadata": {
    "slideshow": {
     "slide_type": "slide"
    }
   },
   "source": [
    "# About Me\n",
    "<br>\n",
    "<div style=\"font-size: larger;\">\n",
    "Chandrasekhar (Sekhar) Ramakrishnan<br>\n",
    "<a href=\"https://twitter.com/ciyer\">@ciyer</a><br>\n",
    "<br>\n",
    "<a href=\"https://datascience.ch\">Swiss Data Science Center</a> and freelance data scientist; teach data viz at <a href=\"https://propulsion.academy\">Propulsion Academy</a>\n",
    "\n",
    "<a href=\"https://illposed.com\"><img alt=\"illposed logo\" src=\"images/illposed-logo.svg\" height=\"75%\"/></a>"
   ]
  },
  {
   "cell_type": "markdown",
   "metadata": {
    "slideshow": {
     "slide_type": "slide"
    }
   },
   "source": [
    "# The Goal of Data Visualization"
   ]
  },
  {
   "cell_type": "markdown",
   "metadata": {
    "slideshow": {
     "slide_type": "subslide"
    }
   },
   "source": [
    "## The goal of visualizing data is to enable quantitative reasoning with your eyes"
   ]
  },
  {
   "cell_type": "markdown",
   "metadata": {
    "slideshow": {
     "slide_type": "notes"
    }
   },
   "source": [
    "There are many valid answers to this question. One of them is the above. It is not the only answer, but it is the answer we will pursue here."
   ]
  },
  {
   "cell_type": "markdown",
   "metadata": {
    "slideshow": {
     "slide_type": "subslide"
    }
   },
   "source": [
    "## One data set, two goals\n",
    "\n",
    "<table>\n",
    "    <tbody>\n",
    "        <tr>\n",
    "            <td><img width=\"505px\" alt=\"GQ Waisteline Viz\" src=\"https://i1.wp.com/flowingdata.com/wp-content/uploads/2010/09/waistline-measurement-chart-for-men.jpg?w=614&ssl=1\"></td>\n",
    "            <td><img width=\"550px\" alt=\"FD Waisteline Viz\" src=\"https://i2.wp.com/flowingdata.com/wp-content/uploads/2010/10/Pants-Size-Chart.png?w=550&ssl=1\"></td>\n",
    "        </tr>\n",
    "    </tbody>\n",
    "</table>\n",
    "\n",
    "From FlowingData https://flowingdata.com/2010/09/30/advertised-vs-actual-waistline/"
   ]
  },
  {
   "cell_type": "markdown",
   "metadata": {
    "slideshow": {
     "slide_type": "notes"
    }
   },
   "source": [
    "Consider these two visualizations of the same data set. They are both good, but they look very different because they persue different goals. \n",
    "\n",
    "The one on the right is a visualization of the kind we will be talking about: one designed to enable quantative reasoning. The one on the left has a different goal: its goal is to be entertaining. This is of course fine, and this visualization does a good job of realizing this goal, but it is not the kind of visualization we will be talking about."
   ]
  },
  {
   "cell_type": "markdown",
   "metadata": {
    "slideshow": {
     "slide_type": "slide"
    }
   },
   "source": [
    "# Table of Contents\n",
    "\n",
    "* Tools for making visualizations\n",
    "* Thinking about visualizations\n",
    "* Selecting mappings\n",
    "* Providing context"
   ]
  },
  {
   "cell_type": "markdown",
   "metadata": {
    "slideshow": {
     "slide_type": "notes"
    }
   },
   "source": [
    "This introduction is made up of several sections. We will first survey some tools for making visualizations. Then we will develop some concepts and terminology to think about visualizations. The bulk of the material is in the final two sections which focus on choosing mappings from data to visuals and ways of providing context in data visualizations, respectively."
   ]
  },
  {
   "cell_type": "markdown",
   "metadata": {
    "slideshow": {
     "slide_type": "subslide"
    }
   },
   "source": [
    "# References\n",
    "\n",
    "<div style=\"display: flex; flex-direction: row;  justify-content: space-around\">\n",
    "    \n",
    "<div>\n",
    "\n",
    "## Edward Tufte\n",
    "\n",
    "- [Visual Display of Quantitative Information](https://www.amazon.com/Visual-Display-Quantitative-Information/dp/0961392142/)\n",
    "- [Envisioning Information](https://www.amazon.com/Envisioning-Information-Edward-R-Tufte/dp/0961392118/)\n",
    "- [Visual Explanations](https://www.amazon.com/Visual-Explanations-Quantities-Evidence-Narrative/dp/0961392126/)\n",
    "\n",
    "</div>\n",
    "\n",
    "<div>\n",
    "    \n",
    "## Online\n",
    "- [Maneesh Agrawala’s Visualization Course](https://magrawala.github.io/cs448b-fa17/)\n",
    "- [Jeffrey Heer’s Visualization Course](https://courses.cs.washington.edu/courses/cse442/17au/)\n",
    "- [Jock Mackinlay’s Designing Great Visualizations](https://www.tableau.com/sites/default/files/media/designing-great-visualizations.pdf)\n",
    "\n",
    "</div>\n",
    "\n",
    "\n",
    "\n",
    "<!-- * Müller-Brockmann -->"
   ]
  },
  {
   "cell_type": "markdown",
   "metadata": {
    "slideshow": {
     "slide_type": "notes"
    }
   },
   "source": [
    "These materials here borrow extensively from others."
   ]
  },
  {
   "cell_type": "markdown",
   "metadata": {
    "slideshow": {
     "slide_type": "slide"
    }
   },
   "source": [
    "# Tools for Visualization"
   ]
  },
  {
   "cell_type": "markdown",
   "metadata": {
    "slideshow": {
     "slide_type": "notes"
    }
   },
   "source": [
    "There are many tools out there for making visualizations. You may already be very familiar with one. In this presentation, we will not go into any of them in detail, but you may be interested to know what is out there."
   ]
  },
  {
   "cell_type": "markdown",
   "metadata": {
    "slideshow": {
     "slide_type": "subslide"
    }
   },
   "source": [
    "## Non-Programming\n",
    "\n",
    "* Excel / Numbers / etc.\n",
    "* [Tableau](https://www.tableau.com)\n",
    "* [Spotfire](https://www.tibco.com/products/tibco-spotfire)\n",
    "* [Power BI](https://powerbi.microsoft.com/en-us/)"
   ]
  },
  {
   "cell_type": "markdown",
   "metadata": {
    "slideshow": {
     "slide_type": "notes"
    }
   },
   "source": [
    "Widely used spreedsheet software, like Excel, offer tools for making visualizations from tables of data. These have limited flexibility, but are very easy to use.\n",
    "\n",
    "Tableau, Spotfire, and Power BI are all GUI-driven tools specifically for data visualization."
   ]
  },
  {
   "cell_type": "markdown",
   "metadata": {
    "slideshow": {
     "slide_type": "subslide"
    }
   },
   "source": [
    "<div style=\"display: flex; flex-direction: row;  justify-content: space-around\">\n",
    "\n",
    "<div style=\"width: 300px\">\n",
    "\n",
    "## R\n",
    "* ggplot\n",
    "\n",
    "</div>\n",
    "\n",
    "<div style=\"width: 430px\">\n",
    "    \n",
    "## Python\n",
    "* matplotlib\n",
    "* seaborn\n",
    "* bokeh\n",
    "* altair\n",
    "* HoloViews\n",
    "\n",
    "</div>\n",
    "\n",
    "<div style=\"width: 430px\">\n",
    "\n",
    "## JavaScript\n",
    "* **[Vega](https://vega.github.io/vega/) / [Vega-Lite](https://vega.github.io/vega-lite/)**\n",
    "* [D3](https://d3js.org)\n",
    "* [C3](https://c3js.org)\n",
    "* [plot.ly](https://plot.ly)\n",
    "\n",
    "</div>\n",
    "\n",
    "</div>"
   ]
  },
  {
   "cell_type": "markdown",
   "metadata": {
    "slideshow": {
     "slide_type": "notes"
    }
   },
   "source": [
    "Programming languages also provide frameworks for data visualization, including, of course, widely used languages for data analysis like R and Python. The landscape in R is cleaner, in Python there has been much recent activity to develop modern, web-friendly alternatives to the classic matplotlib.\n",
    "\n",
    "And JavaScript, though not typically an an environment for data analysis, is the primary programming language for the web and has powerful frameworks for visualizing data.\n",
    "\n",
    "I am not going to say much about all of these in detail, but I wanted to highlight Vega and Vega-Lite, which are declarative specifications for describing data visualizations."
   ]
  },
  {
   "cell_type": "markdown",
   "metadata": {
    "slideshow": {
     "slide_type": "slide"
    }
   },
   "source": [
    "# Thinking About Visualizations"
   ]
  },
  {
   "cell_type": "markdown",
   "metadata": {
    "slideshow": {
     "slide_type": "notes"
    }
   },
   "source": [
    "Our goal of support quantitative reasoning visually has implications for how we build visualizations."
   ]
  },
  {
   "cell_type": "markdown",
   "metadata": {
    "slideshow": {
     "slide_type": "subslide"
    }
   },
   "source": [
    "## The parts of a visualization\n",
    "\n",
    "![visualization](images/context.png)"
   ]
  },
  {
   "cell_type": "markdown",
   "metadata": {
    "slideshow": {
     "slide_type": "subslide"
    }
   },
   "source": [
    "## Marks\n",
    "\n",
    "![marks](images/marks.png)"
   ]
  },
  {
   "cell_type": "markdown",
   "metadata": {
    "slideshow": {
     "slide_type": "notes"
    }
   },
   "source": [
    "The core of a visualization is made up of the marks that represent data."
   ]
  },
  {
   "cell_type": "markdown",
   "metadata": {
    "slideshow": {
     "slide_type": "subslide"
    }
   },
   "source": [
    "## Context: axes, tick marks, title (legend)\n",
    "\n",
    "![axes](images/axes.png)"
   ]
  },
  {
   "cell_type": "markdown",
   "metadata": {
    "slideshow": {
     "slide_type": "subslide"
    }
   },
   "source": [
    "## Context: model, predictions, labels\n",
    "\n",
    "![context](images/context.png)"
   ]
  },
  {
   "cell_type": "markdown",
   "metadata": {
    "slideshow": {
     "slide_type": "subslide"
    }
   },
   "source": [
    "## Marks are defined by mapping\n"
   ]
  },
  {
   "cell_type": "markdown",
   "metadata": {
    "slideshow": {
     "slide_type": "subslide"
    }
   },
   "source": [
    "## Visualization maps from data to marks in an image\n",
    "\n",
    "![mapping](images/mapping.png)"
   ]
  },
  {
   "cell_type": "markdown",
   "metadata": {
    "slideshow": {
     "slide_type": "notes"
    }
   },
   "source": [
    "Visualizations are realized by mapping data variables to visual variables\n",
    "\n",
    "Visual variables include position, shape, brightness, hue (color), transparancy. Doing this well requires being aware of what visual variables we have at our disposal and drawing upon knowledge from graphic design (colors, typorgaphy, layout), psychology/human factors, and statistics. It may be necessary to apply a transformation to the data along the way."
   ]
  },
  {
   "cell_type": "markdown",
   "metadata": {
    "slideshow": {
     "slide_type": "subslide"
    }
   },
   "source": [
    "## Visual inferences should be valid data inferences\n",
    "\n",
    "<img alt=\"jet-spread\" width=\"400px\" src=\"images/jet-spread.png\" />"
   ]
  },
  {
   "cell_type": "markdown",
   "metadata": {
    "slideshow": {
     "slide_type": "notes"
    }
   },
   "source": [
    "To make quantative reasoning possible through your eyes, we need to choose mappings that ensure that visual inferences are valid data inferences. Look at the above visualization. How do you exped the underlying data to be distributed? You probably see contours and bands of similar values. We will later look back at this and see if the data matches."
   ]
  },
  {
   "cell_type": "markdown",
   "metadata": {
    "slideshow": {
     "slide_type": "slide"
    }
   },
   "source": [
    "# Scales of Measurement"
   ]
  },
  {
   "cell_type": "markdown",
   "metadata": {
    "slideshow": {
     "slide_type": "notes"
    }
   },
   "source": [
    "In statistics, measurements occur on a scale, and for different scales, different kinds of operations are possible. Visualizations need to take scales of measurements into account."
   ]
  },
  {
   "cell_type": "markdown",
   "metadata": {
    "slideshow": {
     "slide_type": "subslide"
    }
   },
   "source": [
    "<div style=\"width: 800px\">\n",
    "<table class=\"table table-sm\" style=\"font-size: 18px\">\n",
    "    <thead>\n",
    "        <tr>\n",
    "            <th>Scale</th>\n",
    "            <th>Type</th>\n",
    "            <th>Properties</th>\n",
    "        </tr>\n",
    "    </thead>\n",
    "    <tbody>\n",
    "        <tr>\n",
    "            <td>Nominal</td>\n",
    "            <td>Label</td>\n",
    "            <td>Qualitative, no ordering</td>\n",
    "        </tr>\n",
    "        <tr>\n",
    "            <td>Ordinal</td>\n",
    "            <td>Label or Number</td>\n",
    "            <td>Ordered, but not otherwise comparable</td>\n",
    "        </tr>\n",
    "        <tr>\n",
    "            <td>Interval</td>\n",
    "            <td>Number</td>\n",
    "            <td>Differences can be compared</td>\n",
    "        </tr>\n",
    "        <tr>\n",
    "            <td>Ratio</td>\n",
    "            <td>Number</td>\n",
    "            <td>Has a fixed zero, can divide one value by another</td>\n",
    "        </tr>\n",
    "    </tbody>\n",
    "</table>\n",
    "</div>"
   ]
  },
  {
   "cell_type": "markdown",
   "metadata": {
    "slideshow": {
     "slide_type": "subslide"
    }
   },
   "source": [
    "<div style=\"width: 600px\">\n",
    "<table class=\"table table-sm\" style=\"font-size: 18px\">\n",
    "    <thead>\n",
    "        <tr>\n",
    "            <th>Scale</th>\n",
    "            <th>Examples</th>\n",
    "        </tr>\n",
    "    </thead>\n",
    "    <tbody>\n",
    "        <tr>\n",
    "            <td>Nominal</td>\n",
    "            <td>Gender, color, city, species</td>\n",
    "        </tr>\n",
    "        <tr>\n",
    "            <td>Ordinal</td>\n",
    "            <td>Happy/indifferent/unhappy, S/M/L/XL</td>\n",
    "        </tr>\n",
    "        <tr>\n",
    "            <td>Interval</td>\n",
    "            <td>Dates, temp (C)</td>\n",
    "        </tr>\n",
    "        <tr>\n",
    "            <td>Ratio</td>\n",
    "            <td>Meters, money, temp (K)</td>\n",
    "        </tr>\n",
    "    </tbody>\n",
    "</table>\n",
    "</div>"
   ]
  },
  {
   "cell_type": "markdown",
   "metadata": {
    "slideshow": {
     "slide_type": "slide"
    }
   },
   "source": [
    "# Selecting Mappings"
   ]
  },
  {
   "cell_type": "markdown",
   "metadata": {
    "slideshow": {
     "slide_type": "subslide"
    }
   },
   "source": [
    "## Jacques Bertin, *Sémiologie Graphique* (1967)\n",
    "\n",
    "<img alt=\"bertin mappings\" src=\"http://3.bp.blogspot.com/-CChUqYR6DVc/T04XRZV1owI/AAAAAAAAACQ/3ftIrpYZj-g/s640/les_variables.jpg\">\n",
    "\n",
    "Image from http://pauline-blot.blogspot.ch/2012/02/jacques-bertin.html"
   ]
  },
  {
   "cell_type": "markdown",
   "metadata": {},
   "source": [
    "Bertin was a cartographer and semiotician who started thinking systematically about how do represent data in visual form."
   ]
  },
  {
   "cell_type": "markdown",
   "metadata": {
    "slideshow": {
     "slide_type": "subslide"
    }
   },
   "source": [
    "## Jacques Bertin, *Sémiologie Graphique* (1967)\n",
    "\n",
    "<div style=\"display: flex; flex-direction: row;  justify-content: space-around\">\n",
    "\n",
    "<div>\n",
    "    <img width=\"300px\" alt=\"bertin mappings\" src=\"http://3.bp.blogspot.com/-CChUqYR6DVc/T04XRZV1owI/AAAAAAAAACQ/3ftIrpYZj-g/s640/les_variables.jpg\" />\n",
    "</div>\n",
    "\n",
    "<div style=\"width: 20px\">\n",
    "    &nbsp;\n",
    "</div>\n",
    "\n",
    "<div style=\"width: 600px\">\n",
    "<table class=\"table table-sm\" style=\"font-size: 18px\">\n",
    "    <thead>\n",
    "        <tr>\n",
    "            <th>Visual Variable</th>\n",
    "            <th>Kind of Data</th>\n",
    "        </tr>\n",
    "    </thead>\n",
    "    <tbody>\n",
    "        <tr>\n",
    "            <td>Position</td>\n",
    "            <td>Nominal, Ordinal, Interval, Ratio</td>\n",
    "        </tr>\n",
    "        <tr>\n",
    "            <td>Size</td>\n",
    "            <td>Nominal, Ordinal, Interval, Ratio</td>\n",
    "        </tr>\n",
    "        <tr>\n",
    "            <td>Brightness</td>\n",
    "            <td>Nominal, Ordinal, Interval, Ratio</td>\n",
    "        </tr>\n",
    "        <tr>\n",
    "            <td>Texture</td>\n",
    "            <td>Nominal, Ordinal</td>\n",
    "        </tr>\n",
    "        <tr>\n",
    "            <td>Hue</td>\n",
    "            <td>Nominal</td>\n",
    "        </tr>\n",
    "        <tr>\n",
    "            <td>Shape</td>\n",
    "            <td>Nominal</td>\n",
    "        </tr>\n",
    "    </tbody>\n",
    "</table>\n",
    "</div>\n",
    "</div>"
   ]
  },
  {
   "cell_type": "markdown",
   "metadata": {
    "slideshow": {
     "slide_type": "notes"
    }
   },
   "source": [
    "He created a catalogue of visual variables that can be manipulated and considered the kinds of operations that we can do with those visual variables using our eyes. He used this to create a catalogue of possible mappings of data to visual variables using the constraint that any valid operation with the scale of measurement of the data should be possible with the visual variable."
   ]
  },
  {
   "cell_type": "markdown",
   "metadata": {
    "slideshow": {
     "slide_type": "subslide"
    }
   },
   "source": [
    "## Cleveland & McGill, _Graphical Perception_ (1984)\n",
    "\n",
    "<img alt=\"cleveland mcgill pie comparisons\" width=\"400\" src=\"./images/cleveland_mcgill_pie.png\">\n",
    "<img alt=\"cleveland mcgill bar comparisons\" src=\"./images/cleveland_mcgill_bar.png\">\n",
    "\n",
    "Images from _Graphical Perception: Theory, Experimentation, and Application to the Development of Graphical Methods_, William S. Cleveland and Robert McGill, Journal of the American Statistical Association, Vol. 79, No. 387 (Sep., 1984), pp. 531-554"
   ]
  },
  {
   "cell_type": "markdown",
   "metadata": {
    "slideshow": {
     "slide_type": "notes"
    }
   },
   "source": [
    "Whereas Bertin evaluated mapping strategies analytically, in the 1980s, two researchers, William Cleveland and Robert McGill set out to acquire quantative data comparing the effecacy of different mappings.\n",
    "\n",
    "They had subjects perform quantative tasks using the same data presented with different mappings and evaluated performance in terms of speed and accuracy."
   ]
  },
  {
   "cell_type": "markdown",
   "metadata": {
    "slideshow": {
     "slide_type": "subslide"
    }
   },
   "source": [
    "## Mackinlay *Automating the Design of Graphical Presentations of Relational Information* 1986\n",
    "\n",
    "<img alt=\"mackinlay ordered mappings\" src=\"./images/mackinlay.png\">\n",
    "\n",
    "Redrawn from https://www.tableau.com/sites/default/files/whitepapers/designing-great-visual-communications.pdf"
   ]
  },
  {
   "cell_type": "markdown",
   "metadata": {},
   "source": [
    "Jock Mackinlay used the catalogue of Bertin and the data from Cleveland and McGill to automate the choice of mappings. He summarized Cleveland and McGill's findings in a slopeograph."
   ]
  },
  {
   "cell_type": "markdown",
   "metadata": {
    "slideshow": {
     "slide_type": "notes"
    }
   },
   "source": [
    "# Designing Visualizations\n",
    "\n",
    "* Choosing among mappings\n",
    "* Tufte's rules\n",
    "* The importance of context\n",
    "* Layering information"
   ]
  },
  {
   "cell_type": "markdown",
   "metadata": {},
   "source": [
    "# Hands-On\n",
    "\n",
    "https://www.fueleconomy.gov/feg/download.shtml\n",
    "\n",
    "Qs: \n",
    "- Are 1999 autos more or less efficient than 2008?\n",
    "- Is one manufacturer more or less efficient than the avg?\n",
    "\n",
    "Burtin (transforms)\n"
   ]
  }
 ],
 "metadata": {
  "celltoolbar": "Slideshow",
  "kernelspec": {
   "display_name": "Python 3",
   "language": "python",
   "name": "python3"
  },
  "language_info": {
   "codemirror_mode": {
    "name": "ipython",
    "version": 3
   },
   "file_extension": ".py",
   "mimetype": "text/x-python",
   "name": "python",
   "nbconvert_exporter": "python",
   "pygments_lexer": "ipython3",
   "version": "3.6.8"
  },
  "rise": {
   "theme": "simple"
  }
 },
 "nbformat": 4,
 "nbformat_minor": 2
}
